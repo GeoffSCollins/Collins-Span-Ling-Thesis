{
 "cells": [
  {
   "cell_type": "code",
   "execution_count": 2,
   "metadata": {
    "scrolled": false
   },
   "outputs": [
    {
     "name": "stderr",
     "output_type": "stream",
     "text": [
      "Loading required package: Matrix\n",
      "\n"
     ]
    },
    {
     "name": "stdout",
     "output_type": "stream",
     "text": [
      "[1] \"There are  2176  total tokens in the data.\"\n",
      "[1] \"There are  2106  tokens after removing some data.\"\n"
     ]
    },
    {
     "data": {
      "text/html": [
       "<table class=\"dataframe\">\n",
       "<caption>A data.frame: 6 × 16</caption>\n",
       "<thead>\n",
       "\t<tr><th></th><th scope=col>PID</th><th scope=col>QID</th><th scope=col>Word_Order</th><th scope=col>Group</th><th scope=col>Adverb_Class</th><th scope=col>Mente</th><th scope=col>Adverb</th><th scope=col>AdvSVO</th><th scope=col>SAdvVO</th><th scope=col>SVAdvO</th><th scope=col>SVOAdv</th><th scope=col>Group.f</th><th scope=col>Adverb.f</th><th scope=col>Mente.f</th><th scope=col>Adverb_Class.f</th><th scope=col>Word_Order.f</th></tr>\n",
       "\t<tr><th></th><th scope=col>&lt;int&gt;</th><th scope=col>&lt;chr&gt;</th><th scope=col>&lt;chr&gt;</th><th scope=col>&lt;chr&gt;</th><th scope=col>&lt;chr&gt;</th><th scope=col>&lt;chr&gt;</th><th scope=col>&lt;chr&gt;</th><th scope=col>&lt;dbl&gt;</th><th scope=col>&lt;dbl&gt;</th><th scope=col>&lt;dbl&gt;</th><th scope=col>&lt;dbl&gt;</th><th scope=col>&lt;fct&gt;</th><th scope=col>&lt;fct&gt;</th><th scope=col>&lt;fct&gt;</th><th scope=col>&lt;fct&gt;</th><th scope=col>&lt;fct&gt;</th></tr>\n",
       "</thead>\n",
       "<tbody>\n",
       "\t<tr><th scope=row>1</th><td>4</td><td>SCT0_A-_aqui  </td><td>SVOAdv</td><td>Intermediate</td><td>Place</td><td>No</td><td>aqui  </td><td>0</td><td>0</td><td>0</td><td>1</td><td>Intermediate</td><td>aqui  </td><td>No</td><td>Place</td><td>SVOAdv</td></tr>\n",
       "\t<tr><th scope=row>2</th><td>4</td><td>SCT1_A-_aqui  </td><td>SVOAdv</td><td>Intermediate</td><td>Place</td><td>No</td><td>aqui  </td><td>0</td><td>0</td><td>0</td><td>1</td><td>Intermediate</td><td>aqui  </td><td>No</td><td>Place</td><td>SVOAdv</td></tr>\n",
       "\t<tr><th scope=row>3</th><td>4</td><td>SCT0_A-_afuera</td><td>SVOAdv</td><td>Intermediate</td><td>Place</td><td>No</td><td>afuera</td><td>0</td><td>0</td><td>0</td><td>1</td><td>Intermediate</td><td>afuera</td><td>No</td><td>Place</td><td>SVOAdv</td></tr>\n",
       "\t<tr><th scope=row>4</th><td>4</td><td>SCT1_A-_afuera</td><td>SVOAdv</td><td>Intermediate</td><td>Place</td><td>No</td><td>afuera</td><td>0</td><td>0</td><td>0</td><td>1</td><td>Intermediate</td><td>afuera</td><td>No</td><td>Place</td><td>SVOAdv</td></tr>\n",
       "\t<tr><th scope=row>5</th><td>4</td><td>SCT0_A-_cerca </td><td>SVAdvO</td><td>Intermediate</td><td>Place</td><td>No</td><td>cerca </td><td>0</td><td>0</td><td>1</td><td>0</td><td>Intermediate</td><td>cerca </td><td>No</td><td>Place</td><td>SVAdvO</td></tr>\n",
       "\t<tr><th scope=row>6</th><td>4</td><td>SCT1_A-_cerca </td><td>SVOAdv</td><td>Intermediate</td><td>Place</td><td>No</td><td>cerca </td><td>0</td><td>0</td><td>0</td><td>1</td><td>Intermediate</td><td>cerca </td><td>No</td><td>Place</td><td>SVOAdv</td></tr>\n",
       "</tbody>\n",
       "</table>\n"
      ],
      "text/latex": [
       "A data.frame: 6 × 16\n",
       "\\begin{tabular}{r|llllllllllllllll}\n",
       "  & PID & QID & Word\\_Order & Group & Adverb\\_Class & Mente & Adverb & AdvSVO & SAdvVO & SVAdvO & SVOAdv & Group.f & Adverb.f & Mente.f & Adverb\\_Class.f & Word\\_Order.f\\\\\n",
       "  & <int> & <chr> & <chr> & <chr> & <chr> & <chr> & <chr> & <dbl> & <dbl> & <dbl> & <dbl> & <fct> & <fct> & <fct> & <fct> & <fct>\\\\\n",
       "\\hline\n",
       "\t1 & 4 & SCT0\\_A-\\_aqui   & SVOAdv & Intermediate & Place & No & aqui   & 0 & 0 & 0 & 1 & Intermediate & aqui   & No & Place & SVOAdv\\\\\n",
       "\t2 & 4 & SCT1\\_A-\\_aqui   & SVOAdv & Intermediate & Place & No & aqui   & 0 & 0 & 0 & 1 & Intermediate & aqui   & No & Place & SVOAdv\\\\\n",
       "\t3 & 4 & SCT0\\_A-\\_afuera & SVOAdv & Intermediate & Place & No & afuera & 0 & 0 & 0 & 1 & Intermediate & afuera & No & Place & SVOAdv\\\\\n",
       "\t4 & 4 & SCT1\\_A-\\_afuera & SVOAdv & Intermediate & Place & No & afuera & 0 & 0 & 0 & 1 & Intermediate & afuera & No & Place & SVOAdv\\\\\n",
       "\t5 & 4 & SCT0\\_A-\\_cerca  & SVAdvO & Intermediate & Place & No & cerca  & 0 & 0 & 1 & 0 & Intermediate & cerca  & No & Place & SVAdvO\\\\\n",
       "\t6 & 4 & SCT1\\_A-\\_cerca  & SVOAdv & Intermediate & Place & No & cerca  & 0 & 0 & 0 & 1 & Intermediate & cerca  & No & Place & SVOAdv\\\\\n",
       "\\end{tabular}\n"
      ],
      "text/markdown": [
       "\n",
       "A data.frame: 6 × 16\n",
       "\n",
       "| <!--/--> | PID &lt;int&gt; | QID &lt;chr&gt; | Word_Order &lt;chr&gt; | Group &lt;chr&gt; | Adverb_Class &lt;chr&gt; | Mente &lt;chr&gt; | Adverb &lt;chr&gt; | AdvSVO &lt;dbl&gt; | SAdvVO &lt;dbl&gt; | SVAdvO &lt;dbl&gt; | SVOAdv &lt;dbl&gt; | Group.f &lt;fct&gt; | Adverb.f &lt;fct&gt; | Mente.f &lt;fct&gt; | Adverb_Class.f &lt;fct&gt; | Word_Order.f &lt;fct&gt; |\n",
       "|---|---|---|---|---|---|---|---|---|---|---|---|---|---|---|---|---|\n",
       "| 1 | 4 | SCT0_A-_aqui   | SVOAdv | Intermediate | Place | No | aqui   | 0 | 0 | 0 | 1 | Intermediate | aqui   | No | Place | SVOAdv |\n",
       "| 2 | 4 | SCT1_A-_aqui   | SVOAdv | Intermediate | Place | No | aqui   | 0 | 0 | 0 | 1 | Intermediate | aqui   | No | Place | SVOAdv |\n",
       "| 3 | 4 | SCT0_A-_afuera | SVOAdv | Intermediate | Place | No | afuera | 0 | 0 | 0 | 1 | Intermediate | afuera | No | Place | SVOAdv |\n",
       "| 4 | 4 | SCT1_A-_afuera | SVOAdv | Intermediate | Place | No | afuera | 0 | 0 | 0 | 1 | Intermediate | afuera | No | Place | SVOAdv |\n",
       "| 5 | 4 | SCT0_A-_cerca  | SVAdvO | Intermediate | Place | No | cerca  | 0 | 0 | 1 | 0 | Intermediate | cerca  | No | Place | SVAdvO |\n",
       "| 6 | 4 | SCT1_A-_cerca  | SVOAdv | Intermediate | Place | No | cerca  | 0 | 0 | 0 | 1 | Intermediate | cerca  | No | Place | SVOAdv |\n",
       "\n"
      ],
      "text/plain": [
       "  PID QID            Word_Order Group        Adverb_Class Mente Adverb AdvSVO\n",
       "1 4   SCT0_A-_aqui   SVOAdv     Intermediate Place        No    aqui   0     \n",
       "2 4   SCT1_A-_aqui   SVOAdv     Intermediate Place        No    aqui   0     \n",
       "3 4   SCT0_A-_afuera SVOAdv     Intermediate Place        No    afuera 0     \n",
       "4 4   SCT1_A-_afuera SVOAdv     Intermediate Place        No    afuera 0     \n",
       "5 4   SCT0_A-_cerca  SVAdvO     Intermediate Place        No    cerca  0     \n",
       "6 4   SCT1_A-_cerca  SVOAdv     Intermediate Place        No    cerca  0     \n",
       "  SAdvVO SVAdvO SVOAdv Group.f      Adverb.f Mente.f Adverb_Class.f\n",
       "1 0      0      1      Intermediate aqui     No      Place         \n",
       "2 0      0      1      Intermediate aqui     No      Place         \n",
       "3 0      0      1      Intermediate afuera   No      Place         \n",
       "4 0      0      1      Intermediate afuera   No      Place         \n",
       "5 0      1      0      Intermediate cerca    No      Place         \n",
       "6 0      0      1      Intermediate cerca    No      Place         \n",
       "  Word_Order.f\n",
       "1 SVOAdv      \n",
       "2 SVOAdv      \n",
       "3 SVOAdv      \n",
       "4 SVOAdv      \n",
       "5 SVAdvO      \n",
       "6 SVOAdv      "
      ]
     },
     "metadata": {},
     "output_type": "display_data"
    }
   ],
   "source": [
    "# Source the modified version of stargazer\n",
    "# I modified the stargazer source code so that it prints out the p values in scientific \n",
    "# notation when they are very small.\n",
    "source(\"stargazer_modified/stargazer.R\")\n",
    "library(lme4)\n",
    "\n",
    "stats_df <- read.csv(file='sct_data.csv')\n",
    "\n",
    "print(paste(\"There are \", nrow(stats_df), \" total tokens in the data.\"))\n",
    "\n",
    "      \n",
    "# Remove anything other than AdvSVO, SAdvVO, SVAdvO, and SVOAdv\n",
    "stats_df <- stats_df[stats_df$Word_Order %in% c(\"AdvSVO\", \"SAdvVO\", \"SVAdvO\", \"SVOAdv\"), ]\n",
    "\n",
    "print(paste(\"There are \", nrow(stats_df), \" tokens after removing some data.\"))\n",
    "\n",
    "# Create columns for boolean values for the output word orders\n",
    "stats_df$AdvSVO <- ifelse(stats_df$Word_Order == \"AdvSVO\", 1, 0)\n",
    "stats_df$SAdvVO <- ifelse(stats_df$Word_Order == \"SAdvVO\", 1, 0)\n",
    "stats_df$SVAdvO <- ifelse(stats_df$Word_Order == \"SVAdvO\", 1, 0)\n",
    "stats_df$SVOAdv <- ifelse(stats_df$Word_Order == \"SVOAdv\", 1, 0)\n",
    "\n",
    "\n",
    "# Use deviation contrast coding\n",
    "named.contr.sum<-function(x, ...) {\n",
    "    if (is.factor(x)) {\n",
    "        x <- levels(x)\n",
    "    } else if (is.numeric(x) & length(x)==1L) {\n",
    "        stop(\"cannot create names with integer value. Pass factor levels\")\n",
    "    }\n",
    "    x<-contr.sum(x, ...)\n",
    "    colnames(x) <- apply(x,2,function(x)names(x[x>0])\n",
    "    )\n",
    "    x\n",
    "}\n",
    "\n",
    "stats_df$Group.f = factor(stats_df$Group)\n",
    "stats_df$Adverb.f = factor(stats_df$Adverb)\n",
    "stats_df$Mente.f = factor(stats_df$Mente)\n",
    "stats_df$Adverb_Class.f = factor(stats_df$Adverb_Class)\n",
    "stats_df$Word_Order.f = factor(stats_df$Word_Order)\n",
    "\n",
    "contrasts(stats_df$Group.f) = named.contr.sum(stats_df$Group.f)\n",
    "contrasts(stats_df$Adverb.f) = named.contr.sum(stats_df$Adverb.f)\n",
    "contrasts(stats_df$Mente.f) = named.contr.sum(stats_df$Mente.f)\n",
    "contrasts(stats_df$Adverb_Class.f) = named.contr.sum(stats_df$Adverb_Class.f)\n",
    "      \n",
    "head(stats_df)"
   ]
  },
  {
   "cell_type": "code",
   "execution_count": 3,
   "metadata": {
    "scrolled": false
   },
   "outputs": [],
   "source": [
    "# This function will make an html file for each model in models and combine them with the python function\n",
    "combine_output <- function(output_filename, models, title) {\n",
    "    # Write the model output to a file    \n",
    "    i = 1\n",
    "    file_strings = \"\"\n",
    "    for (model in models) {\n",
    "        \n",
    "        filename = paste(\"tmp\", toString(i), \".html\", sep=\"\")\n",
    "        fileConn<-file(filename)\n",
    "    \n",
    "        writeLines(\n",
    "            capture.output(stargazer(model, title=title, report=('vc*tp'), type='html')),\n",
    "            fileConn\n",
    "        )\n",
    "\n",
    "        close(fileConn)\n",
    "        \n",
    "        file_strings = paste(file_strings, filename)\n",
    "        \n",
    "        i = i + 1\n",
    "    }\n",
    "    \n",
    "    system(\n",
    "        paste('py combine_model_outputs.py', file_strings, output_filename, sep=' ')\n",
    "    )\n",
    "}"
   ]
  },
  {
   "cell_type": "code",
   "execution_count": 4,
   "metadata": {
    "scrolled": false
   },
   "outputs": [
    {
     "data": {
      "text/html": [
       "0"
      ],
      "text/latex": [
       "0"
      ],
      "text/markdown": [
       "0"
      ],
      "text/plain": [
       "[1] 0"
      ]
     },
     "metadata": {},
     "output_type": "display_data"
    },
    {
     "data": {
      "text/html": [
       "0"
      ],
      "text/latex": [
       "0"
      ],
      "text/markdown": [
       "0"
      ],
      "text/plain": [
       "[1] 0"
      ]
     },
     "metadata": {},
     "output_type": "display_data"
    },
    {
     "data": {
      "text/html": [
       "0"
      ],
      "text/latex": [
       "0"
      ],
      "text/markdown": [
       "0"
      ],
      "text/plain": [
       "[1] 0"
      ]
     },
     "metadata": {},
     "output_type": "display_data"
    },
    {
     "data": {
      "text/html": [
       "0"
      ],
      "text/latex": [
       "0"
      ],
      "text/markdown": [
       "0"
      ],
      "text/plain": [
       "[1] 0"
      ]
     },
     "metadata": {},
     "output_type": "display_data"
    }
   ],
   "source": [
    "# Look at the interaction of group and adverb\n",
    "advsvo_model_1 = glm(AdvSVO ~ Group.f * Adverb.f, data=stats_df)\n",
    "sadvvo_model_1 = glm(SAdvVO ~ Group.f * Adverb.f, data=stats_df)\n",
    "svadvo_model_1 = glm(SVAdvO ~ Group.f * Adverb.f, data=stats_df)\n",
    "svoadv_model_1 = glm(SVOAdv ~ Group.f * Adverb.f, data=stats_df)\n",
    "\n",
    "# Relevel the adverb\n",
    "stats_df$Adverb.f <- relevel(stats_df$Adverb.f, ref=(tail(levels(stats_df$Adverb.f), n=1)))\n",
    "contrasts(stats_df$Adverb.f) = named.contr.sum(stats_df$Adverb.f)\n",
    "\n",
    "advsvo_model_2 = glm(AdvSVO ~ Group.f * Adverb.f, data=stats_df)\n",
    "sadvvo_model_2 = glm(SAdvVO ~ Group.f * Adverb.f, data=stats_df)\n",
    "svadvo_model_2 = glm(SVAdvO ~ Group.f * Adverb.f, data=stats_df)\n",
    "svoadv_model_2 = glm(SVOAdv ~ Group.f * Adverb.f, data=stats_df)\n",
    "\n",
    "# Relevel the group\n",
    "stats_df$Group.f <- relevel(stats_df$Group.f, ref=(tail(levels(stats_df$Group.f), n=1)))\n",
    "contrasts(stats_df$Group.f) = named.contr.sum(stats_df$Group.f)\n",
    "\n",
    "advsvo_model_3 = glm(AdvSVO ~ Group.f * Adverb.f, data=stats_df)\n",
    "sadvvo_model_3 = glm(SAdvVO ~ Group.f * Adverb.f, data=stats_df)\n",
    "svadvo_model_3 = glm(SVAdvO ~ Group.f * Adverb.f, data=stats_df)\n",
    "svoadv_model_3 = glm(SVOAdv ~ Group.f * Adverb.f, data=stats_df)\n",
    "\n",
    "# Relevel the adverb back\n",
    "stats_df$Adverb.f <- relevel(stats_df$Adverb.f, ref=(tail(levels(stats_df$Adverb.f), n=1)))\n",
    "contrasts(stats_df$Adverb.f) = named.contr.sum(stats_df$Adverb.f)\n",
    "\n",
    "advsvo_model_4 = glm(AdvSVO ~ Group.f * Adverb.f, data=stats_df)\n",
    "sadvvo_model_4 = glm(SAdvVO ~ Group.f * Adverb.f, data=stats_df)\n",
    "svadvo_model_4 = glm(SVAdvO ~ Group.f * Adverb.f, data=stats_df)\n",
    "svoadv_model_4 = glm(SVOAdv ~ Group.f * Adverb.f, data=stats_df)\n",
    "\n",
    "combine_output(\"model_outputs/SCT_AdvSVO_group_and_adverb.html\", list(advsvo_model_1, advsvo_model_2, advsvo_model_3, advsvo_model_4), \"AdvSVO\")\n",
    "combine_output(\"model_outputs/SCT_SAdvVO_group_and_adverb.html\", list(sadvvo_model_1, sadvvo_model_2, sadvvo_model_3, sadvvo_model_4), \"SAdvVO\")\n",
    "combine_output(\"model_outputs/SCT_SVAdvO_group_and_adverb.html\", list(svadvo_model_1, svadvo_model_2, svadvo_model_3, svadvo_model_4), \"SVAdvO\")\n",
    "combine_output(\"model_outputs/SCT_SVOAdv_group_and_adverb.html\", list(svoadv_model_1, svoadv_model_2, svoadv_model_3, svoadv_model_4), \"SVOAdv\")"
   ]
  }
 ],
 "metadata": {
  "kernelspec": {
   "display_name": "R",
   "language": "R",
   "name": "ir"
  },
  "language_info": {
   "codemirror_mode": "r",
   "file_extension": ".r",
   "mimetype": "text/x-r-source",
   "name": "R",
   "pygments_lexer": "r",
   "version": "4.0.3"
  }
 },
 "nbformat": 4,
 "nbformat_minor": 2
}
