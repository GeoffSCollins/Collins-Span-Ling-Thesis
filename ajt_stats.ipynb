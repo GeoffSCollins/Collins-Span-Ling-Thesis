{
 "cells": [
  {
   "cell_type": "code",
   "execution_count": 2,
   "metadata": {},
   "outputs": [],
   "source": [
    "# Use lme4 and lmerTest for statistics\n",
    "library(\"lme4\")\n",
    "library(\"lmerTest\")\n",
    "\n",
    "# Source the modified version of stargazer\n",
    "# I modified the stargazer source code so that it prints out the p values in scientific \n",
    "# notation when they are very small.\n",
    "source(\"stargazer_modified/stargazer.R\")"
   ]
  },
  {
   "cell_type": "code",
   "execution_count": 3,
   "metadata": {},
   "outputs": [
    {
     "data": {
      "text/html": [
       "<table class=\"dataframe\">\n",
       "<caption>A data.frame: 6 × 8</caption>\n",
       "<thead>\n",
       "\t<tr><th></th><th scope=col>PID</th><th scope=col>Group</th><th scope=col>QID</th><th scope=col>Rating</th><th scope=col>Adverb</th><th scope=col>Mente</th><th scope=col>Adverb_Class</th><th scope=col>Structure</th></tr>\n",
       "\t<tr><th></th><th scope=col>&lt;int&gt;</th><th scope=col>&lt;chr&gt;</th><th scope=col>&lt;chr&gt;</th><th scope=col>&lt;int&gt;</th><th scope=col>&lt;chr&gt;</th><th scope=col>&lt;chr&gt;</th><th scope=col>&lt;chr&gt;</th><th scope=col>&lt;chr&gt;</th></tr>\n",
       "</thead>\n",
       "<tbody>\n",
       "\t<tr><th scope=row>1</th><td>4</td><td>Intermediate</td><td>AJT0_AA-_aqui  </td><td>4</td><td>aqui  </td><td>No</td><td>Place</td><td>AdvSVO</td></tr>\n",
       "\t<tr><th scope=row>2</th><td>4</td><td>Intermediate</td><td>AJT0_BA-_aqui  </td><td>1</td><td>aqui  </td><td>No</td><td>Place</td><td>SAdvVO</td></tr>\n",
       "\t<tr><th scope=row>3</th><td>4</td><td>Intermediate</td><td>AJT0_CA-_aqui  </td><td>3</td><td>aqui  </td><td>No</td><td>Place</td><td>SVAdvO</td></tr>\n",
       "\t<tr><th scope=row>4</th><td>4</td><td>Intermediate</td><td>AJT0_DA-_aqui  </td><td>4</td><td>aqui  </td><td>No</td><td>Place</td><td>SVOAdv</td></tr>\n",
       "\t<tr><th scope=row>5</th><td>4</td><td>Intermediate</td><td>AJT0_AA-_afuera</td><td>4</td><td>afuera</td><td>No</td><td>Place</td><td>AdvSVO</td></tr>\n",
       "\t<tr><th scope=row>6</th><td>4</td><td>Intermediate</td><td>AJT0_BA-_afuera</td><td>1</td><td>afuera</td><td>No</td><td>Place</td><td>SAdvVO</td></tr>\n",
       "</tbody>\n",
       "</table>\n"
      ],
      "text/latex": [
       "A data.frame: 6 × 8\n",
       "\\begin{tabular}{r|llllllll}\n",
       "  & PID & Group & QID & Rating & Adverb & Mente & Adverb\\_Class & Structure\\\\\n",
       "  & <int> & <chr> & <chr> & <int> & <chr> & <chr> & <chr> & <chr>\\\\\n",
       "\\hline\n",
       "\t1 & 4 & Intermediate & AJT0\\_AA-\\_aqui   & 4 & aqui   & No & Place & AdvSVO\\\\\n",
       "\t2 & 4 & Intermediate & AJT0\\_BA-\\_aqui   & 1 & aqui   & No & Place & SAdvVO\\\\\n",
       "\t3 & 4 & Intermediate & AJT0\\_CA-\\_aqui   & 3 & aqui   & No & Place & SVAdvO\\\\\n",
       "\t4 & 4 & Intermediate & AJT0\\_DA-\\_aqui   & 4 & aqui   & No & Place & SVOAdv\\\\\n",
       "\t5 & 4 & Intermediate & AJT0\\_AA-\\_afuera & 4 & afuera & No & Place & AdvSVO\\\\\n",
       "\t6 & 4 & Intermediate & AJT0\\_BA-\\_afuera & 1 & afuera & No & Place & SAdvVO\\\\\n",
       "\\end{tabular}\n"
      ],
      "text/markdown": [
       "\n",
       "A data.frame: 6 × 8\n",
       "\n",
       "| <!--/--> | PID &lt;int&gt; | Group &lt;chr&gt; | QID &lt;chr&gt; | Rating &lt;int&gt; | Adverb &lt;chr&gt; | Mente &lt;chr&gt; | Adverb_Class &lt;chr&gt; | Structure &lt;chr&gt; |\n",
       "|---|---|---|---|---|---|---|---|---|\n",
       "| 1 | 4 | Intermediate | AJT0_AA-_aqui   | 4 | aqui   | No | Place | AdvSVO |\n",
       "| 2 | 4 | Intermediate | AJT0_BA-_aqui   | 1 | aqui   | No | Place | SAdvVO |\n",
       "| 3 | 4 | Intermediate | AJT0_CA-_aqui   | 3 | aqui   | No | Place | SVAdvO |\n",
       "| 4 | 4 | Intermediate | AJT0_DA-_aqui   | 4 | aqui   | No | Place | SVOAdv |\n",
       "| 5 | 4 | Intermediate | AJT0_AA-_afuera | 4 | afuera | No | Place | AdvSVO |\n",
       "| 6 | 4 | Intermediate | AJT0_BA-_afuera | 1 | afuera | No | Place | SAdvVO |\n",
       "\n"
      ],
      "text/plain": [
       "  PID Group        QID             Rating Adverb Mente Adverb_Class Structure\n",
       "1 4   Intermediate AJT0_AA-_aqui   4      aqui   No    Place        AdvSVO   \n",
       "2 4   Intermediate AJT0_BA-_aqui   1      aqui   No    Place        SAdvVO   \n",
       "3 4   Intermediate AJT0_CA-_aqui   3      aqui   No    Place        SVAdvO   \n",
       "4 4   Intermediate AJT0_DA-_aqui   4      aqui   No    Place        SVOAdv   \n",
       "5 4   Intermediate AJT0_AA-_afuera 4      afuera No    Place        AdvSVO   \n",
       "6 4   Intermediate AJT0_BA-_afuera 1      afuera No    Place        SAdvVO   "
      ]
     },
     "metadata": {},
     "output_type": "display_data"
    }
   ],
   "source": [
    "stats_df <- read.csv(file='ajt_data.csv')\n",
    "head(stats_df)"
   ]
  },
  {
   "cell_type": "code",
   "execution_count": 4,
   "metadata": {
    "scrolled": true
   },
   "outputs": [],
   "source": [
    "# Do the contrast coding for each categorical variable\n",
    "named.contr.sum<-function(x, ...) {\n",
    "    if (is.factor(x)) {\n",
    "        x <- levels(x)\n",
    "    } else if (is.numeric(x) & length(x)==1L) {\n",
    "        stop(\"cannot create names with integer value. Pass factor levels\")\n",
    "    }\n",
    "    x<-contr.sum(x, ...)\n",
    "    colnames(x) <- apply(x,2,function(x)names(x[x>0])\n",
    "    )\n",
    "    x\n",
    "}\n",
    "\n",
    "\n",
    "stats_df$Group.f = factor(stats_df$Group)\n",
    "stats_df$Adverb.f = factor(stats_df$Adverb)\n",
    "stats_df$Mente.f = factor(stats_df$Mente)\n",
    "stats_df$Adverb_Class.f = factor(stats_df$Adverb_Class)\n",
    "stats_df$Structure.f = factor(stats_df$Structure)\n",
    "\n",
    "# Using the normal, unnamed contrast coding\n",
    "contrasts(stats_df$Group.f) = named.contr.sum(stats_df$Group.f)\n",
    "contrasts(stats_df$Adverb.f) = named.contr.sum(stats_df$Adverb.f)\n",
    "contrasts(stats_df$Mente.f) = named.contr.sum(stats_df$Mente.f)\n",
    "contrasts(stats_df$Adverb_Class.f) = named.contr.sum(stats_df$Adverb_Class.f)\n",
    "contrasts(stats_df$Structure.f) = named.contr.sum(stats_df$Structure.f)"
   ]
  },
  {
   "cell_type": "code",
   "execution_count": 5,
   "metadata": {},
   "outputs": [
    {
     "data": {
      "text/html": [
       "0"
      ],
      "text/latex": [
       "0"
      ],
      "text/markdown": [
       "0"
      ],
      "text/plain": [
       "[1] 0"
      ]
     },
     "metadata": {},
     "output_type": "display_data"
    }
   ],
   "source": [
    "# Lets look at the interaction of of group and adverb for each structure\n",
    "run_model <- function(stats_df, filename) {\n",
    "    mod <- lmer(Rating ~ Group.f * Structure.f * Adverb.f+ (1|PID) + (1|QID), data=stats_df)\n",
    "    pvals <- list(summary(mod)$coefficients[, 5])\n",
    "    class(mod) <- \"lmerMod\"\n",
    "    \n",
    "    # Write the model output to a file\n",
    "    fileConn<-file(filename)\n",
    "    \n",
    "    writeLines(\n",
    "        capture.output(stargazer(mod, title=\"Rating ~ Group * Structure + (1|PID) + (1|QID)\", \n",
    "                                 report=('vc*tp'), type='html', p=pvals)),\n",
    "        fileConn\n",
    "    )\n",
    "      \n",
    "    close(fileConn)\n",
    "}\n",
    "\n",
    "# Contrast code for the average within each group and structure\n",
    "contrasts(stats_df$Group.f) = named.contr.sum(stats_df$Group.f)\n",
    "contrasts(stats_df$Structure.f) = named.contr.sum(stats_df$Structure.f)\n",
    "contrasts(stats_df$Adverb.f) = named.contr.sum(stats_df$Adverb.f)\n",
    "file1 <- \"tmp-model_output_part1.html\"\n",
    "run_model(stats_df, file1)\n",
    "\n",
    "# First relevel the Group\n",
    "stats_df$Group.f <- relevel(stats_df$Group.f, ref=(tail(levels(stats_df$Group.f), n=1)))\n",
    "contrasts(stats_df$Group.f) = named.contr.sum(stats_df$Group.f)\n",
    "contrasts(stats_df$Structure.f) = named.contr.sum(stats_df$Structure.f)\n",
    "contrasts(stats_df$Adverb.f) = named.contr.sum(stats_df$Adverb.f)\n",
    "file2 <- \"tmp-model_output_part2.html\"\n",
    "run_model(stats_df, file2)\n",
    "\n",
    "# Then relevel the Structure\n",
    "stats_df$Structure.f <- relevel(stats_df$Structure.f, ref=(tail(levels(stats_df$Structure.f), n=1)))\n",
    "contrasts(stats_df$Group.f) = named.contr.sum(stats_df$Group.f)\n",
    "contrasts(stats_df$Structure.f) = named.contr.sum(stats_df$Structure.f)\n",
    "contrasts(stats_df$Adverb.f) = named.contr.sum(stats_df$Adverb.f)\n",
    "file3 <- \"tmp-model_output_part3.html\"\n",
    "run_model(stats_df, file3)\n",
    "\n",
    "# Revel the group again\n",
    "stats_df$Group.f <- relevel(stats_df$Group.f, ref=(tail(levels(stats_df$Group.f), n=1)))\n",
    "contrasts(stats_df$Group.f) = named.contr.sum(stats_df$Group.f)\n",
    "contrasts(stats_df$Structure.f) = named.contr.sum(stats_df$Structure.f)\n",
    "contrasts(stats_df$Adverb.f) = named.contr.sum(stats_df$Adverb.f)\n",
    "file4 <- \"tmp-model_output_part4.html\"\n",
    "run_model(stats_df, file4)\n",
    "\n",
    "# Revel the adverb\n",
    "stats_df$Adverb.f <- relevel(stats_df$Adverb.f, ref=(tail(levels(stats_df$Adverb.f), n=1)))\n",
    "contrasts(stats_df$Group.f) = named.contr.sum(stats_df$Group.f)\n",
    "contrasts(stats_df$Structure.f) = named.contr.sum(stats_df$Structure.f)\n",
    "contrasts(stats_df$Adverb.f) = named.contr.sum(stats_df$Adverb.f)\n",
    "file5 <- \"tmp-model_output_part5.html\"\n",
    "run_model(stats_df, file5)\n",
    "\n",
    "# Revel the group\n",
    "stats_df$Group.f <- relevel(stats_df$Group.f, ref=(tail(levels(stats_df$Group.f), n=1)))\n",
    "contrasts(stats_df$Group.f) = named.contr.sum(stats_df$Group.f)\n",
    "contrasts(stats_df$Structure.f) = named.contr.sum(stats_df$Structure.f)\n",
    "contrasts(stats_df$Adverb.f) = named.contr.sum(stats_df$Adverb.f)\n",
    "file6 <- \"tmp-model_output_part6.html\"\n",
    "run_model(stats_df, file6)\n",
    "\n",
    "# Revel the struct\n",
    "stats_df$Structure.f <- relevel(stats_df$Structure.f, ref=(tail(levels(stats_df$Structure.f), n=1)))\n",
    "contrasts(stats_df$Group.f) = named.contr.sum(stats_df$Group.f)\n",
    "contrasts(stats_df$Structure.f) = named.contr.sum(stats_df$Structure.f)\n",
    "contrasts(stats_df$Adverb.f) = named.contr.sum(stats_df$Adverb.f)\n",
    "file7 <- \"tmp-model_output_part7.html\"\n",
    "run_model(stats_df, file7)\n",
    "\n",
    "# Revel the group\n",
    "stats_df$Group.f <- relevel(stats_df$Group.f, ref=(tail(levels(stats_df$Group.f), n=1)))\n",
    "contrasts(stats_df$Group.f) = named.contr.sum(stats_df$Group.f)\n",
    "contrasts(stats_df$Structure.f) = named.contr.sum(stats_df$Structure.f)\n",
    "contrasts(stats_df$Adverb.f) = named.contr.sum(stats_df$Adverb.f)\n",
    "file8 <- \"tmp-model_output_part8.html\"\n",
    "run_model(stats_df, file8)\n",
    "\n",
    "# Run the combining python script\n",
    "output_filename <- paste(\"model_outputs/group-adverbs-structures-model_output.html\", sep='')\n",
    "system(\n",
    "    paste('py combine_model_outputs.py', file1, file2, file3, file4, file5, file6, file7, file8, output_filename, sep=' ')\n",
    ")"
   ]
  },
  {
   "cell_type": "code",
   "execution_count": 6,
   "metadata": {},
   "outputs": [
    {
     "data": {
      "text/html": [
       "0"
      ],
      "text/latex": [
       "0"
      ],
      "text/markdown": [
       "0"
      ],
      "text/plain": [
       "[1] 0"
      ]
     },
     "metadata": {},
     "output_type": "display_data"
    }
   ],
   "source": [
    "# Lets look at the interaction of of group and structure\n",
    "run_model <- function(stats_df, filename) {\n",
    "    mod <- lmer(Rating ~ Group.f * Structure.f + (1|PID) + (1|QID), data=stats_df)\n",
    "    pvals <- list(summary(mod)$coefficients[, 5])\n",
    "    class(mod) <- \"lmerMod\"\n",
    "    \n",
    "    # Write the model output to a file\n",
    "    fileConn<-file(filename)\n",
    "    \n",
    "    writeLines(\n",
    "        capture.output(stargazer(mod, title=\"Rating ~ Group.f * Structure.f + (1|PID) + (1|QID)\", \n",
    "                                 report=('vc*tp'), type='html', p=pvals)),\n",
    "        fileConn\n",
    "    )\n",
    "      \n",
    "    close(fileConn)\n",
    "}\n",
    "\n",
    "# Contrast code for the average within each group and structure\n",
    "contrasts(stats_df$Group.f) = named.contr.sum(stats_df$Group.f)\n",
    "contrasts(stats_df$Structure.f) = named.contr.sum(stats_df$Structure.f)\n",
    "file1 <- \"tmp-model_output_part1.html\"\n",
    "run_model(stats_df, file1)\n",
    "\n",
    "# First relevel the Group\n",
    "stats_df$Group.f <- relevel(stats_df$Group.f, ref=(tail(levels(stats_df$Group.f), n=1)))\n",
    "contrasts(stats_df$Group.f) = named.contr.sum(stats_df$Group.f)\n",
    "contrasts(stats_df$Structure.f) = named.contr.sum(stats_df$Structure.f)\n",
    "file2 <- \"tmp-model_output_part2.html\"\n",
    "run_model(stats_df, file2)\n",
    "\n",
    "# Then relevel the Structure\n",
    "stats_df$Structure.f <- relevel(stats_df$Structure.f, ref=(tail(levels(stats_df$Structure.f), n=1)))\n",
    "contrasts(stats_df$Group.f) = named.contr.sum(stats_df$Group.f)\n",
    "contrasts(stats_df$Structure.f) = named.contr.sum(stats_df$Structure.f)\n",
    "file3 <- \"tmp-model_output_part3.html\"\n",
    "run_model(stats_df, file3)\n",
    "\n",
    "# Revel the group again for the last combination\n",
    "stats_df$Group.f <- relevel(stats_df$Group.f, ref=(tail(levels(stats_df$Group.f), n=1)))\n",
    "contrasts(stats_df$Group.f) = named.contr.sum(stats_df$Group.f)\n",
    "contrasts(stats_df$Structure.f) = named.contr.sum(stats_df$Structure.f)\n",
    "file4 <- \"tmp-model_output_part4.html\"\n",
    "run_model(stats_df, file4)\n",
    "\n",
    "# Run the combining python script\n",
    "output_filename <- paste(\"model_outputs/structures-model_output.html\", sep='')\n",
    "system(\n",
    "    paste('py combine_model_outputs.py', file1, file2, file3, file4, output_filename, sep=' ')\n",
    ")"
   ]
  },
  {
   "cell_type": "code",
   "execution_count": 7,
   "metadata": {
    "scrolled": true
   },
   "outputs": [
    {
     "name": "stdout",
     "output_type": "stream",
     "text": [
      "[1] \"aqui\"\n",
      "[1] \"afuera\"\n"
     ]
    },
    {
     "name": "stderr",
     "output_type": "stream",
     "text": [
      "boundary (singular) fit: see ?isSingular\n",
      "\n",
      "boundary (singular) fit: see ?isSingular\n",
      "\n",
      "boundary (singular) fit: see ?isSingular\n",
      "\n",
      "boundary (singular) fit: see ?isSingular\n",
      "\n"
     ]
    },
    {
     "name": "stdout",
     "output_type": "stream",
     "text": [
      "[1] \"cerca\"\n",
      "[1] \"lejos\"\n"
     ]
    },
    {
     "name": "stderr",
     "output_type": "stream",
     "text": [
      "boundary (singular) fit: see ?isSingular\n",
      "\n",
      "boundary (singular) fit: see ?isSingular\n",
      "\n",
      "boundary (singular) fit: see ?isSingular\n",
      "\n",
      "boundary (singular) fit: see ?isSingular\n",
      "\n"
     ]
    },
    {
     "name": "stdout",
     "output_type": "stream",
     "text": [
      "[1] \"casi\"\n",
      "[1] \"aproximadamente\"\n",
      "[1] \"apenas\"\n",
      "[1] \"solamente\"\n",
      "[1] \"facilmente\"\n",
      "[1] \"bien\"\n"
     ]
    },
    {
     "name": "stderr",
     "output_type": "stream",
     "text": [
      "boundary (singular) fit: see ?isSingular\n",
      "\n",
      "boundary (singular) fit: see ?isSingular\n",
      "\n",
      "boundary (singular) fit: see ?isSingular\n",
      "\n",
      "boundary (singular) fit: see ?isSingular\n",
      "\n"
     ]
    },
    {
     "name": "stdout",
     "output_type": "stream",
     "text": [
      "[1] \"mal\"\n",
      "[1] \"precisamente\"\n",
      "[1] \"mucho\"\n",
      "[1] \"mayormente\"\n"
     ]
    },
    {
     "name": "stderr",
     "output_type": "stream",
     "text": [
      "boundary (singular) fit: see ?isSingular\n",
      "\n",
      "boundary (singular) fit: see ?isSingular\n",
      "\n",
      "boundary (singular) fit: see ?isSingular\n",
      "\n",
      "boundary (singular) fit: see ?isSingular\n",
      "\n"
     ]
    },
    {
     "name": "stdout",
     "output_type": "stream",
     "text": [
      "[1] \"poco\"\n",
      "[1] \"minimamente\"\n"
     ]
    }
   ],
   "source": [
    "# Look at the interaction between group and structure within each adverb\n",
    "run_model <- function(adv_df, filename, adverb) {\n",
    "    mod <- lmer(Rating ~ Group.f * Structure.f + (1|PID) + (1|QID), data=adv_df)\n",
    "    pvals <- list(summary(mod)$coefficients[, 5])\n",
    "    \n",
    "    class(mod) <- \"lmerMod\"\n",
    "    \n",
    "    # Write the model output to a file\n",
    "    fileConn<-file(filename)\n",
    "    \n",
    "    writeLines(\n",
    "        capture.output(stargazer(mod, title=adverb, report=('vc*tp'), type='html',\n",
    "                                   p=pvals)),\n",
    "        fileConn\n",
    "    )\n",
    "      \n",
    "    close(fileConn)\n",
    "}\n",
    "\n",
    "adverbs_tested <- unique( stats_df$Adverb.f )\n",
    "\n",
    "for (adverb in adverbs_tested) {\n",
    "    print(adverb)\n",
    "    adv_df = stats_df[stats_df$Adverb.f == adverb, ]\n",
    "    \n",
    "    adv_df$Group.f = factor(adv_df$Group)\n",
    "    adv_df$Adverb.f = factor(adv_df$Adverb)\n",
    "    adv_df$Structure.f = factor(adv_df$Structure)\n",
    "\n",
    "    # Contrast code\n",
    "    contrasts(adv_df$Group.f) = named.contr.sum(adv_df$Group.f)\n",
    "    contrasts(adv_df$Structure.f) = named.contr.sum(adv_df$Structure.f)\n",
    "    file1 <- \"tmp-model_output_part1.html\"\n",
    "    run_model(adv_df, file1, adverb)    \n",
    "    \n",
    "    # Switch the group\n",
    "    adv_df$Group.f <- relevel(adv_df$Group.f, ref=(tail(levels(adv_df$Group.f), n=1)))\n",
    "    contrasts(adv_df$Group.f) = named.contr.sum(adv_df$Group.f)\n",
    "    contrasts(adv_df$Structure.f) = named.contr.sum(adv_df$Structure.f)\n",
    "    file2 <- \"tmp-model_output_part2.html\"\n",
    "    run_model(adv_df, file2, adverb)\n",
    "    \n",
    "    # Switch the structure\n",
    "    adv_df$Structure.f <- relevel(adv_df$Structure.f, ref=(tail(levels(adv_df$Structure.f), n=1)))\n",
    "    contrasts(adv_df$Group.f) = named.contr.sum(adv_df$Group.f)\n",
    "    contrasts(adv_df$Structure.f) = named.contr.sum(adv_df$Structure.f)\n",
    "    file3 <- \"tmp-model_output_part3.html\"\n",
    "    run_model(adv_df, file3, adverb)\n",
    "    \n",
    "    # Switch the group back\n",
    "    adv_df$Group.f <- relevel(adv_df$Group.f, ref=(tail(levels(adv_df$Group.f), n=1)))\n",
    "    contrasts(adv_df$Group.f) = named.contr.sum(adv_df$Group.f)\n",
    "    contrasts(adv_df$Structure.f) = named.contr.sum(adv_df$Structure.f)\n",
    "    file4 <- \"tmp-model_output_part4.html\"\n",
    "    run_model(adv_df, file4, adverb)\n",
    "    \n",
    "    # Combine the outputs\n",
    "    # Run the combining python script\n",
    "    output_filename <- paste(\"model_outputs/Adverb_models/\", adverb, \"-model_output.html\", sep='')\n",
    "    system(\n",
    "        paste('py combine_model_outputs.py', file1, file2, file3, file4, output_filename, sep=' ')\n",
    "    )   \n",
    "}"
   ]
  },
  {
   "cell_type": "code",
   "execution_count": 8,
   "metadata": {},
   "outputs": [
    {
     "data": {
      "text/html": [
       "0"
      ],
      "text/latex": [
       "0"
      ],
      "text/markdown": [
       "0"
      ],
      "text/plain": [
       "[1] 0"
      ]
     },
     "metadata": {},
     "output_type": "display_data"
    }
   ],
   "source": [
    "# Lets look at the interaction of of group and mente\n",
    "run_model <- function(stats_df, filename) {\n",
    "    mod <- lmer(Rating ~ Group.f * Mente.f + (1|PID) + (1|QID), data=stats_df)\n",
    "    pvals <- list(summary(mod)$coefficients[, 5])\n",
    "    class(mod) <- \"lmerMod\"\n",
    "    \n",
    "    # Write the model output to a file\n",
    "    fileConn<-file(filename)\n",
    "    \n",
    "    writeLines(\n",
    "        capture.output(stargazer(mod, title=\"Rating ~ Group.f * Mente.f + (1|PID) + (1|QID)\", \n",
    "                                 report=('vc*tp'), type='html', p=pvals)),\n",
    "        fileConn\n",
    "    )\n",
    "      \n",
    "    close(fileConn)\n",
    "}\n",
    "\n",
    "# Contrast code for the average within mentes\n",
    "contrasts(stats_df$Group.f) = named.contr.sum(stats_df$Group.f)\n",
    "contrasts(stats_df$Mente.f) = named.contr.sum(stats_df$Mente.f)\n",
    "\n",
    "file1 <- \"mente-model_output_part1.html\"\n",
    "run_model(stats_df, file1)\n",
    "\n",
    "# First relevel the Group\n",
    "stats_df$Group.f <- relevel(stats_df$Group.f, ref=(tail(levels(stats_df$Group.f), n=1)))\n",
    "contrasts(stats_df$Group.f) = named.contr.sum(stats_df$Group.f)\n",
    "contrasts(stats_df$Mente.f) = named.contr.sum(stats_df$Mente.f)\n",
    "file2 <- \"mente-model_output_part2.html\"\n",
    "run_model(stats_df, file2)\n",
    "\n",
    "# Run the combining python script\n",
    "output_filename <- 'model_outputs/mente-model_output.html'\n",
    "system(\n",
    "    paste('py combine_model_outputs.py', file1, file2, output_filename, sep=' ')\n",
    ")"
   ]
  }
 ],
 "metadata": {
  "kernelspec": {
   "display_name": "R",
   "language": "R",
   "name": "ir"
  },
  "language_info": {
   "codemirror_mode": "r",
   "file_extension": ".r",
   "mimetype": "text/x-r-source",
   "name": "R",
   "pygments_lexer": "r",
   "version": "4.0.3"
  }
 },
 "nbformat": 4,
 "nbformat_minor": 2
}
